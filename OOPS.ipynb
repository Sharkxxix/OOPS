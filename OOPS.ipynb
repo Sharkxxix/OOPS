{
  "nbformat": 4,
  "nbformat_minor": 0,
  "metadata": {
    "colab": {
      "provenance": []
    },
    "kernelspec": {
      "name": "python3",
      "display_name": "Python 3"
    },
    "language_info": {
      "name": "python"
    }
  },
  "cells": [
    {
      "cell_type": "markdown",
      "source": [
        "# OOPS\n"
      ],
      "metadata": {
        "id": "iPFsquMNAfI8"
      }
    },
    {
      "cell_type": "markdown",
      "source": [
        "1. What is Object-Oriented Programming (OOP)?\n",
        "  - Object-Oriented Programming is a programming model that organizes software design around data, or objects, rather than functions and logic. It focuses on objects that have both attributes (data) and methods (behavior).\n",
        "\n"
      ],
      "metadata": {
        "id": "TOdTX4nMBczD"
      }
    },
    {
      "cell_type": "markdown",
      "source": [
        "2.  What is a class in OOP?\n",
        "  - A class is a blueprint for creating objects. It defines a set of attributes and methods that the created objects (instances) will have."
      ],
      "metadata": {
        "id": "8-EyjdjABo3l"
      }
    },
    {
      "cell_type": "markdown",
      "source": [
        "3.  What is an object in OOP?\n",
        "  - An object is an instance of a class. It is a concrete entity created from a class blueprint, with actual values for its attributes and the ability to execute its methods."
      ],
      "metadata": {
        "id": "vxiG1Bk9B0HL"
      }
    },
    {
      "cell_type": "markdown",
      "source": [
        "4.  What is the difference between abstraction and encapsulation?\n",
        "  - Abstraction hides complex implementation details and shows only the essential features of the object. Encapsulation bundles the data and the methods that operate on that data into a single unit, or class."
      ],
      "metadata": {
        "id": "WxS08SL5B_x9"
      }
    },
    {
      "cell_type": "markdown",
      "source": [
        "5.  What are dunder methods in Python?\n",
        "  - Dunder (double underscore) methods are special methods with names that start and end with double underscores, like __init__(). They allow you to emulate the behavior of built-in types and implement operator overloading."
      ],
      "metadata": {
        "id": "6jFwH2IsCOZq"
      }
    },
    {
      "cell_type": "markdown",
      "source": [
        "6. Explain the concept of inheritance in OOP.\n",
        "  - Inheritance is a mechanism that allows a new class (subclass) to inherit attributes and methods from an existing class (superclass). This promotes code reusability."
      ],
      "metadata": {
        "id": "uc7DrxUuCYwt"
      }
    },
    {
      "cell_type": "markdown",
      "source": [
        "7.  What is polymorphism in OOP?\n",
        "  - Polymorphism means \"many forms\" and is the ability of different objects to respond to the same method call in their own specific ways. It allows for a single interface to represent different underlying forms."
      ],
      "metadata": {
        "id": "BROXK78UCkua"
      }
    },
    {
      "cell_type": "markdown",
      "source": [
        "8.  How is encapsulation achieved in Python?\n",
        "  - Encapsulation is achieved by creating a class that bundles data and methods together. To restrict access to data, attributes are often prefixed with an underscore (_) for protected or a double underscore (__) for private members."
      ],
      "metadata": {
        "id": "xNzfKkSSC-bT"
      }
    },
    {
      "cell_type": "markdown",
      "source": [
        "9. What is a constructor in Python?\n",
        "  - A constructor is a special method called __init__ that is automatically invoked when a new object of a class is created. Its primary purpose is to initialize the object's attributes.\n",
        "  "
      ],
      "metadata": {
        "id": "LQPU4a9KDILc"
      }
    },
    {
      "cell_type": "markdown",
      "source": [
        "10. What are class and static methods in Python?\n",
        "  - A class method (@classmethod) is bound to the class and receives the class as its first argument (cls). A static method (@staticmethod) is not bound to the class or instance and is essentially a regular function namespaced within a class."
      ],
      "metadata": {
        "id": "DUxmQ9v7DSBy"
      }
    },
    {
      "cell_type": "markdown",
      "source": [
        "11.  What is method overloading in Python?\n",
        "  - Method overloading is the ability to define multiple methods with the same name but with different parameters. Python does not support this in the traditional sense, but similar functionality can be achieved using default arguments or variable-length arguments."
      ],
      "metadata": {
        "id": "9qQrCzvsDb62"
      }
    },
    {
      "cell_type": "markdown",
      "source": [
        "12.  What is method overriding in OOP?\n",
        "  - Method overriding occurs when a subclass provides a specific implementation for a method that is already defined in its superclass. This allows the subclass to modify or extend the behavior of the inherited method."
      ],
      "metadata": {
        "id": "8Ro63pKUDpFa"
      }
    },
    {
      "cell_type": "markdown",
      "source": [
        "13. What is a property decorator in Python?\n",
        "  - The @property decorator is a built-in feature that allows you to define methods that can be accessed like attributes. It is used to create \"getter,\" \"setter,\" and \"deleter\" methods, providing more control over attribute access.\n",
        "  "
      ],
      "metadata": {
        "id": "MdNJdJjjDzv_"
      }
    },
    {
      "cell_type": "markdown",
      "source": [
        "14.  Why is polymorphism important in OOP?\n",
        "  - Polymorphism is important because it allows for flexibility and code reuse. It enables a single function or method to handle objects of different classes, as long as they share a common interface or superclass."
      ],
      "metadata": {
        "id": "1U3Ybb5MD9_d"
      }
    },
    {
      "cell_type": "markdown",
      "source": [
        "15.  What is an abstract class in Python?\n",
        "  - An abstract class is a class that cannot be instantiated and is designed to be subclassed. It can contain abstract methods (methods without an implementation) that must be implemented by its subclasses."
      ],
      "metadata": {
        "id": "AVdjxAOSENet"
      }
    },
    {
      "cell_type": "markdown",
      "source": [
        "16.  What are the advantages of OOP?\n",
        "  - The main advantages of OOP include improved code reusability through inheritance, better organization and modularity, and easier maintenance and troubleshooting. It helps model real-world problems more effectively."
      ],
      "metadata": {
        "id": "G_8yXhfwEXPf"
      }
    },
    {
      "cell_type": "markdown",
      "source": [
        "17. What is the difference between a class variable and an instance variable?\n",
        "  - A class variable is shared by all instances of a class; there is only one copy of it. An instance variable is unique to each object or instance of the class."
      ],
      "metadata": {
        "id": "52yaxnsEEg_5"
      }
    },
    {
      "cell_type": "markdown",
      "source": [
        "18. What is multiple inheritance in Python?\n",
        "  - Multiple inheritance is a feature where a class can inherit attributes and methods from more than one parent class. This allows a class to combine the functionalities of several different classes."
      ],
      "metadata": {
        "id": "wGj4rnppEp80"
      }
    },
    {
      "cell_type": "markdown",
      "source": [
        "19. Explain the purpose of ‘’__str__’ and ‘__repr__’ ‘ methods in Python?\n",
        "  - The __str__ method returns an informal, readable string representation of an object, intended for end-users. The __repr__ method returns an official, unambiguous string representation that can ideally be used to recreate the object."
      ],
      "metadata": {
        "id": "R_7YyfJWE5_-"
      }
    },
    {
      "cell_type": "markdown",
      "source": [
        "20. What is the significance of the ‘super()’ function in Python?\n",
        "  - The super() function is used to call a method from a parent class within a subclass. It is commonly used to extend the functionality of inherited methods without rewriting them completely."
      ],
      "metadata": {
        "id": "WRpJcHNAFDtC"
      }
    },
    {
      "cell_type": "markdown",
      "source": [
        "21.  What is the significance of the __del__ method in Python?\n",
        "  - The __del__ method, known as a destructor, is called when an object is about to be destroyed (garbage collected). It is used to perform any cleanup tasks before the object is removed from memory."
      ],
      "metadata": {
        "id": "VsOSDx7BFLlc"
      }
    },
    {
      "cell_type": "markdown",
      "source": [
        "22. What is the difference between @staticmethod and @classmethod in Python?\n",
        "  - A @classmethod receives the class itself as the first argument (cls), allowing it to access class-level attributes. A @staticmethod does not receive any implicit first argument and behaves like a regular function within the class's namespace."
      ],
      "metadata": {
        "id": "xNjnHv8AFT2Q"
      }
    },
    {
      "cell_type": "markdown",
      "source": [
        "23.  How does polymorphism work in Python with inheritance?\n",
        "  - In Python, polymorphism with inheritance allows a subclass to override a method from its parent. When that method is called on an object of the subclass, the subclass's version of the method is executed, demonstrating polymorphic behavior."
      ],
      "metadata": {
        "id": "Liwl4fugFq7s"
      }
    },
    {
      "cell_type": "markdown",
      "source": [
        "24.  What is method chaining in Python OOP?\n",
        "  - Method chaining is a technique where multiple methods are called sequentially on the same object in a single line of code. This is achieved by having each method in the chain return the object instance (self)."
      ],
      "metadata": {
        "id": "o_BZzo5DF0s6"
      }
    },
    {
      "cell_type": "markdown",
      "source": [
        "25. What is the purpose of the __call__ method in Python?\n",
        "  - The __call__ method allows an instance of a class to be called as if it were a function. Defining this method makes the object \"callable.\""
      ],
      "metadata": {
        "id": "Dl296ABeF_p7"
      }
    },
    {
      "cell_type": "markdown",
      "source": [],
      "metadata": {
        "id": "wPTSg2hFGOUQ"
      }
    },
    {
      "cell_type": "markdown",
      "source": [],
      "metadata": {
        "id": "3UE5AZplGQYT"
      }
    },
    {
      "cell_type": "markdown",
      "source": [
        "# OOPS(practical)\n"
      ],
      "metadata": {
        "id": "xWzCO8ZUGQ32"
      }
    },
    {
      "cell_type": "markdown",
      "source": [
        " 1. Create a parent class Animal with a method speak() that prints a generic message. Create a child class Dog\n",
        "that overrides the speak() method to print \"Bark!\"."
      ],
      "metadata": {
        "id": "OwWZ_OlWGXz-"
      }
    },
    {
      "cell_type": "code",
      "source": [
        "class Animal:\n",
        "    def speak(self):\n",
        "        print(\"Generic animal sound\")\n",
        "\n",
        "class Dog(Animal):\n",
        "    def speak(self):\n",
        "        print(\"Bark!\")\n",
        "\n",
        "# Example usage:\n",
        "animal = Animal()\n",
        "animal.speak()\n",
        "\n",
        "dog = Dog()\n",
        "dog.speak()"
      ],
      "metadata": {
        "colab": {
          "base_uri": "https://localhost:8080/"
        },
        "id": "yDeEPYu-I950",
        "outputId": "b39a2ab6-75e5-4388-bb72-61c7b9c32c01"
      },
      "execution_count": 28,
      "outputs": [
        {
          "output_type": "stream",
          "name": "stdout",
          "text": [
            "Generic animal sound\n",
            "Bark!\n"
          ]
        }
      ]
    },
    {
      "cell_type": "markdown",
      "source": [
        " 2. Write a program to create an abstract class Shape with a method area(). Derive classes Circle and Rectangle\n",
        "from it and implement the area() method in both."
      ],
      "metadata": {
        "id": "y7ZrkazWJ17q"
      }
    },
    {
      "cell_type": "code",
      "metadata": {
        "id": "51d37139"
      },
      "source": [
        "from abc import ABC, abstractmethod\n",
        "\n",
        "class Shape(ABC):\n",
        "    @abstractmethod\n",
        "    def area(self):\n",
        "        pass\n",
        "\n",
        "class Circle(Shape):\n",
        "    def __init__(self, radius):\n",
        "        self.radius = radius\n",
        "\n",
        "    def area(self):\n",
        "        return 3.14 * self.radius * self.radius\n",
        "\n",
        "class Rectangle(Shape):\n",
        "    def __init__(self, width, height):\n",
        "        self.width = width\n",
        "        self.height = height\n",
        "\n",
        "    def area(self):\n",
        "        return self.width * self.height"
      ],
      "execution_count": 40,
      "outputs": []
    },
    {
      "cell_type": "markdown",
      "metadata": {
        "id": "b734e153"
      },
      "source": [
        "Now, let's create instances of `Circle` and `Rectangle` and calculate their areas."
      ]
    },
    {
      "cell_type": "code",
      "metadata": {
        "colab": {
          "base_uri": "https://localhost:8080/"
        },
        "id": "e9ded441",
        "outputId": "b6e4f72a-3740-4e75-c2ce-064c86cce1de"
      },
      "source": [
        "circle = Circle(5)\n",
        "rectangle = Rectangle(4, 6)\n",
        "\n",
        "print(f\"Area of Circle: {circle.area()}\")\n",
        "print(f\"Area of Rectangle: {rectangle.area()}\")"
      ],
      "execution_count": 41,
      "outputs": [
        {
          "output_type": "stream",
          "name": "stdout",
          "text": [
            "Area of Circle: 78.5\n",
            "Area of Rectangle: 24\n"
          ]
        }
      ]
    },
    {
      "cell_type": "markdown",
      "source": [
        " 3. Implement a multi-level inheritance scenario where a class Vehicle has an attribute type. Derive a class Car\n",
        "and further derive a class ElectricCar that adds a battery attribute."
      ],
      "metadata": {
        "id": "uASgy4vyMnlA"
      }
    },
    {
      "cell_type": "code",
      "source": [
        "class Vehicle:\n",
        "    def __init__(self, vehicle_type):\n",
        "        self.type = vehicle_type\n",
        "\n",
        "class Car(Vehicle):\n",
        "    def __init__(self, vehicle_type, model):\n",
        "        super().__init__(vehicle_type)\n",
        "        self.model = model\n",
        "\n",
        "class ElectricCar(Car):\n",
        "    def __init__(self, vehicle_type, model, battery_capacity):\n",
        "        super().__init__(vehicle_type, model)\n",
        "        self.battery = battery_capacity\n",
        "\n",
        "# Example usage:\n",
        "electric_car = ElectricCar(\"Car\", \"Tesla Model S\", \"100 kWh\")\n",
        "print(f\"Vehicle Type: {electric_car.type}\")\n",
        "print(f\"Car Model: {electric_car.model}\")\n",
        "print(f\"Battery Capacity: {electric_car.battery}\")"
      ],
      "metadata": {
        "colab": {
          "base_uri": "https://localhost:8080/"
        },
        "id": "9dDj5_ljMrwz",
        "outputId": "2a9833c5-77ae-4578-fc3d-a1ba8871d4cf"
      },
      "execution_count": 42,
      "outputs": [
        {
          "output_type": "stream",
          "name": "stdout",
          "text": [
            "Vehicle Type: Car\n",
            "Car Model: Tesla Model S\n",
            "Battery Capacity: 100 kWh\n"
          ]
        }
      ]
    },
    {
      "cell_type": "markdown",
      "source": [
        " 4. Demonstrate polymorphism by creating a base class Bird with a method fly(). Create two derived classes\n",
        "Sparrow and Penguin that override the fly() method."
      ],
      "metadata": {
        "id": "cNjiXl1lM7FA"
      }
    },
    {
      "cell_type": "code",
      "source": [
        "class Bird:\n",
        "    def fly(self):\n",
        "        print(\"Most birds can fly.\")\n",
        "\n",
        "class Sparrow(Bird):\n",
        "    def fly(self):\n",
        "        print(\"Sparrows fly short distances.\")\n",
        "\n",
        "class Penguin(Bird):\n",
        "    def fly(self):\n",
        "        print(\"Penguins cannot fly.\")\n",
        "\n",
        "# Example usage:\n",
        "bird = Bird()\n",
        "sparrow = Sparrow()\n",
        "penguin = Penguin()\n",
        "\n",
        "bird.fly()\n",
        "sparrow.fly()\n",
        "penguin.fly()"
      ],
      "metadata": {
        "colab": {
          "base_uri": "https://localhost:8080/"
        },
        "id": "vN_Jt-CXNU4o",
        "outputId": "f8c58438-f7af-4a00-d757-d58ed41a81cb"
      },
      "execution_count": 47,
      "outputs": [
        {
          "output_type": "stream",
          "name": "stdout",
          "text": [
            "Most birds can fly.\n",
            "Sparrows fly short distances.\n",
            "Penguins cannot fly.\n"
          ]
        }
      ]
    },
    {
      "cell_type": "markdown",
      "source": [
        "5. Write a program to demonstrate encapsulation by creating a class BankAccount with private attributes\n",
        "balance and methods to deposit, withdraw, and check balance.\n"
      ],
      "metadata": {
        "id": "fFkHnX1MNeJP"
      }
    },
    {
      "cell_type": "code",
      "source": [
        "class BankAccount:\n",
        "    def __init__(self, initial_balance=0):\n",
        "        self.__balance = initial_balance  # Private attribute\n",
        "\n",
        "    def deposit(self, amount):\n",
        "        if amount > 0:\n",
        "            self.__balance += amount\n",
        "            print(f\"Deposited: ${amount}. New balance: ${self.__balance}\")\n",
        "        else:\n",
        "            print(\"Deposit amount must be positive.\")\n",
        "\n",
        "    def withdraw(self, amount):\n",
        "        if amount > 0:\n",
        "            if self.__balance >= amount:\n",
        "                self.__balance -= amount\n",
        "                print(f\"Withdrew: ${amount}. New balance: ${self.__balance}\")\n",
        "            else:\n",
        "                print(\"Insufficient funds.\")\n",
        "        else:\n",
        "            print(\"Withdrawal amount must be positive.\")\n",
        "\n",
        "    def check_balance(self):\n",
        "        print(f\"Current balance: ${self.__balance}\")\n",
        "\n",
        "# Example usage:\n",
        "account = BankAccount(1000)\n",
        "account.deposit(500)\n",
        "account.withdraw(200)\n",
        "account.check_balance()\n",
        "account.withdraw(2000) # Attempt to withdraw more than balance\n",
        "account.deposit(-100) # Attempt to deposit negative amount"
      ],
      "metadata": {
        "colab": {
          "base_uri": "https://localhost:8080/"
        },
        "id": "CpJlahp0Njzn",
        "outputId": "fa64f726-f34f-4bfd-81dd-cdacff6314f4"
      },
      "execution_count": 48,
      "outputs": [
        {
          "output_type": "stream",
          "name": "stdout",
          "text": [
            "Deposited: $500. New balance: $1500\n",
            "Withdrew: $200. New balance: $1300\n",
            "Current balance: $1300\n",
            "Insufficient funds.\n",
            "Deposit amount must be positive.\n"
          ]
        }
      ]
    },
    {
      "cell_type": "markdown",
      "source": [
        " 6. Demonstrate runtime polymorphism using a method play() in a base class Instrument. Derive classes Guitar\n",
        "and Piano that implement their own version of play()."
      ],
      "metadata": {
        "id": "Cx5V_r2YNus3"
      }
    },
    {
      "cell_type": "code",
      "source": [
        "class Instrument:\n",
        "    def play(self):\n",
        "        print(\"Playing an instrument.\")\n",
        "\n",
        "class Guitar(Instrument):\n",
        "    def play(self):\n",
        "        print(\"Strumming the guitar.\")\n",
        "\n",
        "class Piano(Instrument):\n",
        "    def play(self):\n",
        "        print(\"Playing the piano keys.\")\n",
        "\n",
        "# Example usage:\n",
        "def make_instrument_play(instrument):\n",
        "    instrument.play()\n",
        "\n",
        "instrument = Instrument()\n",
        "guitar = Guitar()\n",
        "piano = Piano()\n",
        "\n",
        "make_instrument_play(instrument)\n",
        "make_instrument_play(guitar)\n",
        "make_instrument_play(piano)"
      ],
      "metadata": {
        "colab": {
          "base_uri": "https://localhost:8080/"
        },
        "id": "TQeTwBUAN1t7",
        "outputId": "c82ab4a5-0667-495d-9d6f-34633ebe4e5d"
      },
      "execution_count": 49,
      "outputs": [
        {
          "output_type": "stream",
          "name": "stdout",
          "text": [
            "Playing an instrument.\n",
            "Strumming the guitar.\n",
            "Playing the piano keys.\n"
          ]
        }
      ]
    },
    {
      "cell_type": "markdown",
      "source": [
        " 7. Create a class MathOperations with a class method add_numbers() to add two numbers and a static\n",
        "method subtract_numbers() to subtract two numbers."
      ],
      "metadata": {
        "id": "vErRW8fmOA70"
      }
    },
    {
      "cell_type": "code",
      "source": [
        "class MathOperations:\n",
        "    @classmethod\n",
        "    def add_numbers(cls, x, y):\n",
        "        return x + y\n",
        "\n",
        "    @staticmethod\n",
        "    def subtract_numbers(x, y):\n",
        "        return x - y\n",
        "\n",
        "# Example usage:\n",
        "sum_result = MathOperations.add_numbers(10, 5)\n",
        "print(f\"Sum: {sum_result}\")\n",
        "\n",
        "difference_result = MathOperations.subtract_numbers(10, 5)\n",
        "print(f\"Difference: {difference_result}\")"
      ],
      "metadata": {
        "colab": {
          "base_uri": "https://localhost:8080/"
        },
        "id": "fw8JCxD4OERW",
        "outputId": "dd827244-9683-4fa0-f758-9907df2730fe"
      },
      "execution_count": 50,
      "outputs": [
        {
          "output_type": "stream",
          "name": "stdout",
          "text": [
            "Sum: 15\n",
            "Difference: 5\n"
          ]
        }
      ]
    },
    {
      "cell_type": "markdown",
      "source": [
        "8. Implement a class Person with a class method to count the total number of persons created."
      ],
      "metadata": {
        "id": "IwpjQ1I7OTss"
      }
    },
    {
      "cell_type": "code",
      "source": [
        "class Person:\n",
        "    person_count = 0  # Class variable to count instances\n",
        "\n",
        "    def __init__(self, name):\n",
        "        self.name = name\n",
        "        Person.increment_count()  # Call class method to increment count\n",
        "\n",
        "    @classmethod\n",
        "    def increment_count(cls):\n",
        "        cls.person_count += 1\n",
        "\n",
        "# Example usage:\n",
        "person1 = Person(\"Alice\")\n",
        "person2 = Person(\"Bob\")\n",
        "person3 = Person(\"Charlie\")\n",
        "\n",
        "print(f\"Total number of persons created: {Person.person_count}\")"
      ],
      "metadata": {
        "colab": {
          "base_uri": "https://localhost:8080/"
        },
        "id": "A1LzjfadOfIY",
        "outputId": "f2c53284-6f64-4cb6-8006-988f9c9f98ac"
      },
      "execution_count": 52,
      "outputs": [
        {
          "output_type": "stream",
          "name": "stdout",
          "text": [
            "Total number of persons created: 3\n"
          ]
        }
      ]
    },
    {
      "cell_type": "markdown",
      "source": [
        " 9. Write a class Fraction with attributes numerator and denominator. Override the str method to display the\n",
        "fraction as \"numerator/denominator\"."
      ],
      "metadata": {
        "id": "b2ReLBPBOs2o"
      }
    },
    {
      "cell_type": "code",
      "source": [
        "class Fraction:\n",
        "    def __init__(self, numerator, denominator):\n",
        "        self.numerator = numerator\n",
        "        self.denominator = denominator\n",
        "\n",
        "    def __str__(self):\n",
        "        return f\"{self.numerator}/{self.denominator}\"\n",
        "\n",
        "# Example usage:\n",
        "fraction1 = Fraction(3, 4)\n",
        "print(fraction1)\n",
        "\n",
        "fraction2 = Fraction(1, 2)\n",
        "print(fraction2)"
      ],
      "metadata": {
        "colab": {
          "base_uri": "https://localhost:8080/"
        },
        "id": "eU-a6tEKOxjv",
        "outputId": "170430a3-1e04-46ff-ab3c-e085917cc7b4"
      },
      "execution_count": 53,
      "outputs": [
        {
          "output_type": "stream",
          "name": "stdout",
          "text": [
            "3/4\n",
            "1/2\n"
          ]
        }
      ]
    },
    {
      "cell_type": "markdown",
      "source": [
        " 10. Demonstrate operator overloading by creating a class Vector and overriding the add method to add two\n",
        "vectors."
      ],
      "metadata": {
        "id": "4W3bZL2PO7Cj"
      }
    },
    {
      "cell_type": "code",
      "source": [
        "class Vector:\n",
        "    def __init__(self, x, y):\n",
        "        self.x = x\n",
        "        self.y = y\n",
        "\n",
        "    def __str__(self):\n",
        "        return f\"Vector({self.x}, {self.y})\"\n",
        "\n",
        "    def __add__(self, other):\n",
        "        if isinstance(other, Vector):\n",
        "            return Vector(self.x + other.x, self.y + other.y)\n",
        "        else:\n",
        "            raise TypeError(\"Can only add a Vector to another Vector\")\n",
        "\n",
        "# Example usage:\n",
        "v1 = Vector(2, 3)\n",
        "v2 = Vector(4, 1)\n",
        "\n",
        "v3 = v1 + v2\n",
        "print(v3)"
      ],
      "metadata": {
        "colab": {
          "base_uri": "https://localhost:8080/"
        },
        "id": "-kqi3k1fO_PN",
        "outputId": "1bd57e66-a81d-4470-f051-d524028b6b4d"
      },
      "execution_count": 54,
      "outputs": [
        {
          "output_type": "stream",
          "name": "stdout",
          "text": [
            "Vector(6, 4)\n"
          ]
        }
      ]
    },
    {
      "cell_type": "markdown",
      "source": [
        " 11. Create a class Person with attributes name and age. Add a method greet() that prints \"Hello, my name is\n",
        "{name} and I am {age} years old.\""
      ],
      "metadata": {
        "id": "wPinl6fgPOwI"
      }
    },
    {
      "cell_type": "code",
      "source": [
        "class Person:\n",
        "    def __init__(self, name, age):\n",
        "        self.name = name\n",
        "        self.age = age\n",
        "\n",
        "    def greet(self):\n",
        "        print(f\"Hello, my name is {self.name} and I am {self.age} years old.\")\n",
        "\n",
        "# Example usage:\n",
        "person1 = Person(\"Karan\", 20)\n",
        "person1.greet()"
      ],
      "metadata": {
        "colab": {
          "base_uri": "https://localhost:8080/"
        },
        "id": "DIxDXUuWPSSX",
        "outputId": "9b4e4023-331e-4092-d72e-1d50f65be707"
      },
      "execution_count": 57,
      "outputs": [
        {
          "output_type": "stream",
          "name": "stdout",
          "text": [
            "Hello, my name is Karan and I am 20 years old.\n"
          ]
        }
      ]
    },
    {
      "cell_type": "markdown",
      "source": [
        " 12. Implement a class Student with attributes name and grades. Create a method average_grade() to compute\n",
        "the average of the grades."
      ],
      "metadata": {
        "id": "2G6X5dTbPlDs"
      }
    },
    {
      "cell_type": "code",
      "source": [
        "class Student:\n",
        "    def __init__(self, name, grades):\n",
        "        self.name = name\n",
        "        self.grades = grades\n",
        "\n",
        "    def average_grade(self):\n",
        "        if not self.grades:\n",
        "            return 0\n",
        "        return sum(self.grades) / len(self.grades)\n",
        "\n",
        "# Example usage:\n",
        "student1 = Student(\"Bob\", [85, 90, 78, 92])\n",
        "print(f\"{student1.name}'s average grade is: {student1.average_grade()}\")\n",
        "\n",
        "student2 = Student(\"Eve\", [])\n",
        "print(f\"{student2.name}'s average grade is: {student2.average_grade()}\")"
      ],
      "metadata": {
        "colab": {
          "base_uri": "https://localhost:8080/"
        },
        "id": "071bSwVKPoy_",
        "outputId": "404e4a75-397c-43fb-8f22-7a67c98b45fa"
      },
      "execution_count": 58,
      "outputs": [
        {
          "output_type": "stream",
          "name": "stdout",
          "text": [
            "Bob's average grade is: 86.25\n",
            "Eve's average grade is: 0\n"
          ]
        }
      ]
    },
    {
      "cell_type": "markdown",
      "source": [
        " 13. Create a class Rectangle with methods set_dimensions() to set the dimensions and area() to calculate the\n",
        "area."
      ],
      "metadata": {
        "id": "2w4CFA2PP1OT"
      }
    },
    {
      "cell_type": "code",
      "source": [
        "class Rectangle:\n",
        "    def __init__(self):\n",
        "        self.width = 0\n",
        "        self.height = 0\n",
        "\n",
        "    def set_dimensions(self, width, height):\n",
        "        self.width = width\n",
        "        self.height = height\n",
        "\n",
        "    def area(self):\n",
        "        return self.width * self.height\n",
        "\n",
        "# Example usage:\n",
        "rectangle = Rectangle()\n",
        "rectangle.set_dimensions(10, 5)\n",
        "print(f\"Area of the rectangle: {rectangle.area()}\")"
      ],
      "metadata": {
        "colab": {
          "base_uri": "https://localhost:8080/"
        },
        "id": "D_JkOMfxP44d",
        "outputId": "bec41c67-e58a-4b44-b5c9-5ffb202b4243"
      },
      "execution_count": 59,
      "outputs": [
        {
          "output_type": "stream",
          "name": "stdout",
          "text": [
            "Area of the rectangle: 50\n"
          ]
        }
      ]
    },
    {
      "cell_type": "markdown",
      "source": [
        " 14. Create a class Employee with a method calculate_salary() that computes the salary based on hours worked\n",
        "and hourly rate. Create a derived class Manager that adds a bonus to the salary"
      ],
      "metadata": {
        "id": "W6MHOCTgQF3s"
      }
    },
    {
      "cell_type": "code",
      "source": [
        "class Employee:\n",
        "    def __init__(self, hours_worked, hourly_rate):\n",
        "        self.hours_worked = hours_worked\n",
        "        self.hourly_rate = hourly_rate\n",
        "\n",
        "    def calculate_salary(self):\n",
        "        return self.hours_worked * self.hourly_rate\n",
        "\n",
        "class Manager(Employee):\n",
        "    def __init__(self, hours_worked, hourly_rate, bonus):\n",
        "        super().__init__(hours_worked, hourly_rate)\n",
        "        self.bonus = bonus\n",
        "\n",
        "    def calculate_salary(self):\n",
        "        base_salary = super().calculate_salary()\n",
        "        return base_salary + self.bonus\n",
        "\n",
        "# Example usage:\n",
        "employee = Employee(40, 15)\n",
        "print(f\"Employee salary: ${employee.calculate_salary()}\")\n",
        "\n",
        "manager = Manager(40, 20, 500)\n",
        "print(f\"Manager salary: ${manager.calculate_salary()}\")"
      ],
      "metadata": {
        "colab": {
          "base_uri": "https://localhost:8080/"
        },
        "id": "-TA7nsFOQJFe",
        "outputId": "add347eb-90e2-49d1-8988-cda25f9a105e"
      },
      "execution_count": 60,
      "outputs": [
        {
          "output_type": "stream",
          "name": "stdout",
          "text": [
            "Employee salary: $600\n",
            "Manager salary: $1300\n"
          ]
        }
      ]
    },
    {
      "cell_type": "markdown",
      "source": [
        "15. Create a class Product with attributes name, price, and quantity. Implement a method total_price() that\n",
        "calculates the total price of the product."
      ],
      "metadata": {
        "id": "huJVNkhHQX9i"
      }
    },
    {
      "cell_type": "code",
      "source": [
        "class Product:\n",
        "    def __init__(self, name, price, quantity):\n",
        "        self.name = name\n",
        "        self.price = price\n",
        "        self.quantity = quantity\n",
        "\n",
        "    def total_price(self):\n",
        "        return self.price * self.quantity\n",
        "\n",
        "# Example usage:\n",
        "product1 = Product(\"Laptop\", 1200, 1)\n",
        "print(f\"Total price for {product1.name}: ${product1.total_price()}\")\n",
        "\n",
        "product2 = Product(\"Mouse\", 25, 5)\n",
        "print(f\"Total price for {product2.name}: ${product2.total_price()}\")"
      ],
      "metadata": {
        "colab": {
          "base_uri": "https://localhost:8080/"
        },
        "id": "qFTfJ2aBQeCL",
        "outputId": "2a31e375-dc2a-4406-8c49-076a8866d7d8"
      },
      "execution_count": 61,
      "outputs": [
        {
          "output_type": "stream",
          "name": "stdout",
          "text": [
            "Total price for Laptop: $1200\n",
            "Total price for Mouse: $125\n"
          ]
        }
      ]
    },
    {
      "cell_type": "markdown",
      "source": [
        " 16. Create a class Animal with an abstract method sound(). Create two derived classes Cow and Sheep that\n",
        "implement the sound() method."
      ],
      "metadata": {
        "id": "c-8FSYACQule"
      }
    },
    {
      "cell_type": "code",
      "source": [
        "from abc import ABC, abstractmethod\n",
        "\n",
        "class Animal(ABC):\n",
        "    @abstractmethod\n",
        "    def sound(self):\n",
        "        pass\n",
        "\n",
        "class Cow(Animal):\n",
        "    def sound(self):\n",
        "        return \"Moo!\"\n",
        "\n",
        "class Sheep(Animal):\n",
        "    def sound(self):\n",
        "        return \"Baa!\"\n",
        "\n",
        "# Example usage:\n",
        "cow = Cow()\n",
        "sheep = Sheep()\n",
        "\n",
        "print(f\"Cow says: {cow.sound()}\")\n",
        "print(f\"Sheep says: {sheep.sound()}\")"
      ],
      "metadata": {
        "colab": {
          "base_uri": "https://localhost:8080/"
        },
        "id": "L4ZFo0whRE4m",
        "outputId": "4df72eff-c663-45f8-aca4-7d7ccfcd10d3"
      },
      "execution_count": 63,
      "outputs": [
        {
          "output_type": "stream",
          "name": "stdout",
          "text": [
            "Cow says: Moo!\n",
            "Sheep says: Baa!\n"
          ]
        }
      ]
    },
    {
      "cell_type": "markdown",
      "source": [
        " 17. Create a class Book with attributes title, author, and year_published. Add a method get_book_info() that\n",
        "returns a formatted string with the book's details."
      ],
      "metadata": {
        "id": "2x73VjJ9RUNH"
      }
    },
    {
      "cell_type": "code",
      "source": [
        "class Book:\n",
        "    def __init__(self, title, author, year_published):\n",
        "        self.title = title\n",
        "        self.author = author\n",
        "        self.year_published = year_published\n",
        "\n",
        "    def get_book_info(self):\n",
        "        return f\"{self.title} by {self.author}, published in {self.year_published}\"\n",
        "\n",
        "# Example usage:\n",
        "book1 = Book(\"The Hitchhiker's Guide to the Galaxy\", \"Douglas Adams\", 1979)\n",
        "print(book1.get_book_info())\n",
        "\n",
        "book2 = Book(\"Pride and Prejudice\", \"Jane Austen\", 1813)\n",
        "print(book2.get_book_info())"
      ],
      "metadata": {
        "colab": {
          "base_uri": "https://localhost:8080/"
        },
        "id": "5ksBBhsqRdXF",
        "outputId": "1d6a0312-3b49-40bc-859e-51e14e58d656"
      },
      "execution_count": 64,
      "outputs": [
        {
          "output_type": "stream",
          "name": "stdout",
          "text": [
            "The Hitchhiker's Guide to the Galaxy by Douglas Adams, published in 1979\n",
            "Pride and Prejudice by Jane Austen, published in 1813\n"
          ]
        }
      ]
    },
    {
      "cell_type": "markdown",
      "source": [
        " 18. Create a class House with attributes address and price. Create a derived class Mansion that adds an\n",
        "attribute number_of_rooms."
      ],
      "metadata": {
        "id": "00rpEDNfRob8"
      }
    },
    {
      "cell_type": "code",
      "source": [
        "class House:\n",
        "    def __init__(self, address, price):\n",
        "        self.address = address\n",
        "        self.price = price\n",
        "\n",
        "class Mansion(House):\n",
        "    def __init__(self, address, price, number_of_rooms):\n",
        "        super().__init__(address, price)\n",
        "        self.number_of_rooms = number_of_rooms\n",
        "\n",
        "# Example usage:\n",
        "house = House(\"123 Main St\", 300000)\n",
        "print(f\"House Address: {house.address}, Price: ${house.price}\")\n",
        "\n",
        "mansion = Mansion(\"456 Oak Ave\", 1500000, 20)\n",
        "print(f\"Mansion Address: {mansion.address}, Price: ${mansion.price}, Rooms: {mansion.number_of_rooms}\")"
      ],
      "metadata": {
        "colab": {
          "base_uri": "https://localhost:8080/"
        },
        "id": "iUOiot46RrYm",
        "outputId": "145b53dc-550f-4078-a16b-03be6384e229"
      },
      "execution_count": 65,
      "outputs": [
        {
          "output_type": "stream",
          "name": "stdout",
          "text": [
            "House Address: 123 Main St, Price: $300000\n",
            "Mansion Address: 456 Oak Ave, Price: $1500000, Rooms: 20\n"
          ]
        }
      ]
    }
  ]
}